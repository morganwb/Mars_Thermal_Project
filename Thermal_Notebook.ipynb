{
 "cells": [
  {
   "cell_type": "markdown",
   "metadata": {},
   "source": [
    "# Kickstarting the Martian Greenhouse Effect\n",
    "## A Final Project for Physics 361 by Morgan Baxter and Alex Brovender\n",
    "\n",
    "For a variety of reasons, including proximity to the sun and atmospheric and regolith composition, Mars is the number one candidate body in the solar system for future human colonization. Unfortunately, it is currently highly inhospitable to human life, partially due to the extreme surface temperatures that can range from $-143^{\\circ} C$ to $35^{\\circ} C$. We use simple climate models to find the amount of energy that would be required to liberate enough CO2 to kickstart a greenhouse effect and warm the planet."
   ]
  },
  {
   "cell_type": "markdown",
   "metadata": {},
   "source": [
    "<div>\n",
    "<img src=\"https://upload.wikimedia.org/wikipedia/commons/6/6a/PIA22546-Mars-AnnualCO2ice-N%26SPoles-20180806.gif\" width=\"500\"/>\n",
    "</div>\n",
    "$\\textbf{Figure 1:}$ Extents of north (left) and south (right) polar CO2 ice during a martian year\n",
    "\n",
    "$\\textbf{Source:}$ NASA/JPL-caltech\n",
    "\n",
    "\n"
   ]
  },
  {
   "cell_type": "markdown",
   "metadata": {},
   "source": [
    "## Hogg 2008: Glacial cycles and carbon dioxide: A conceptual model\n",
    "\n",
    "We utilize Hogg, 2008, as a starting point for our model for the Mars climate system. The equations as he provides them are as follows:\n",
    "\n",
    "$$ c\\frac{dT}{dt} = \\bar{S} + \\sum_i{sin \\left (\\frac{2 \\pi t}{\\Gamma_i}\\right )} + \\bar{G} + A \\ln \\left(\\frac{C}{C_0}\\right) - \\sigma T^4$$\n",
    "\n",
    "$$ \\frac{dC}{dt} = V - (W_0 + W_1C) + \\beta (C_{max} - C)\\max\\left(\\frac{dT}{dt} - \\epsilon , 0 \\right) $$\n",
    "\n",
    "$\\sum_i{sin \\left (\\frac{2 \\pi t}{\\Gamma_i}\\right )}$ gives us variations of incoming solar radiation due to orbit. Should be neglegible.\n",
    "\n",
    "c = specific heat capacity of ocean\n",
    "\n",
    "$\\frac{dT}{dt}$ = Temp/time derivative on Mars's surface?\n",
    "\n",
    "$ C(t) $ = atmospheric concentration of $CO_2$\n",
    "\n",
    "$ C_0 = 280 $ ppm initial concentration\n",
    "\n",
    "$ A = 5.35 W/m^2 $ effect of $CO_2$ on radiation budget\n",
    "\n",
    "$V$ constant source of $CO_2$ from volcanos. We set this to zero.\n",
    "\n",
    "$W_0 = 0.013 $ ppm/year, $W_1 = \\frac{1}{12000}$ years, these values relate to carbon sequestering by rocks and the Ocean\n",
    "\n",
    "$\\bar{S}$ = Average Incoming Solar Radiation on Mars, units of J?/year\n",
    "\n",
    "$\\beta = 0.38 ^\\circ C^{-1}  $ scaling parameter \n",
    "\n",
    "$\\epsilon$ dependent on timescale of orbital forcing\n",
    "\n",
    "$V = C0_2$ source from volcanoes(0.018-0.03 ppm/yr), we aren't taking this term into account\n",
    "\n",
    "Here, $F_S$ is the solar constant, in units of $W m^{-2}$, and is a different value for each body in the solar system. The solar constant for Mars is approximately $589 W m^{-2}$. $A$ is the planetary bond albedo, which is dimensionless and equal to 0.25. $\\sigma$ is the Stefan-Boltzmann constant, which is equal to $\\frac{2 \\pi^5 k^4}{15c^2 h^3} = 5.67 *10^{-8} W m^{-2} K^{-4}$."
   ]
  },
  {
   "cell_type": "markdown",
   "metadata": {},
   "source": [
    "There are a variety of terms here which we do not need. As a result, our reduced equations look as follows:\n",
    "\n",
    "$$ \\frac{dT}{dt} = \\Big[ \\bar{S} + \\bar{G} + A \\ln \\left(\\frac{C}{C_0}\\right) - \\sigma T^4 \\Big] /c$$\n",
    "\n",
    "$$\\frac{dC}{dt} = (T - 120)\\beta$$"
   ]
  },
  {
   "cell_type": "markdown",
   "metadata": {},
   "source": [
    "The code below defines each equation as a python function. We take the initial pressure on the surface of Mars to be 608 Pa. To aid in our calculations, we will take the pressure of the Martian atmosphere to be constant, at 608 Pa. At this pressure, the specific heat capacity of CO2 is approximately 700 J/(kg K). CO2 ice will sublimate at around -120 Celsius, or 153 Kelvin. Mars has an average temperature of around 210 K, but this is clearly higher than the temperature at which CO2 sublimates. The Martian ice caps are on the poles, which are considerably colder than at the surface. \n",
    "\n",
    "and the temperature at the poles to be 213 K. \n",
    "\n",
    "Our first step is to adjust our parameters so our system of differential equations matches the predictive temperature value. All units should be in base SI. We set the greenhouse warming term, $\\bar{G}=100 W m^{-2}$."
   ]
  },
  {
   "cell_type": "code",
   "execution_count": 4,
   "metadata": {},
   "outputs": [],
   "source": [
    "%matplotlib inline\n",
    "import matplotlib.pyplot as plt\n",
    "import numpy as np\n",
    "import scipy.integrate as integ\n",
    "\n",
    "def RHS(w,t,p):\n",
    "    \n",
    "    # we define the constants below:\n",
    "    \n",
    "    SB_constant = 5.67e-8\n",
    "    solar_constant = 589\n",
    "    \n",
    "    # the variable w holds the state variables, C and T, which are carbon in atmosphere and average temperature\n",
    "    C, T = w\n",
    "    \n",
    "    # the variable p holds the parameters\n",
    "    \n",
    "    G = p\n",
    "    \n",
    "    dT = (solar_constant + G + A*np.ln(C/C_0) - (SB_constant*(T**4)))/700\n",
    "    \n",
    "    dC = T - 120\n",
    "    \n",
    "    f = [dT, dC]\n",
    "    \n",
    "    return f"
   ]
  },
  {
   "cell_type": "code",
   "execution_count": null,
   "metadata": {},
   "outputs": [],
   "source": [
    "solve = integ.solve_ivp(RHS,,[0.95])"
   ]
  }
 ],
 "metadata": {
  "kernelspec": {
   "display_name": "Python 3",
   "language": "python",
   "name": "python3"
  },
  "language_info": {
   "codemirror_mode": {
    "name": "ipython",
    "version": 3
   },
   "file_extension": ".py",
   "mimetype": "text/x-python",
   "name": "python",
   "nbconvert_exporter": "python",
   "pygments_lexer": "ipython3",
   "version": "3.8.0"
  }
 },
 "nbformat": 4,
 "nbformat_minor": 2
}
