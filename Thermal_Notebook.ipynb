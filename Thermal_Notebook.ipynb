{
 "cells": [
  {
   "cell_type": "markdown",
   "metadata": {},
   "source": [
    "# Kickstarting the Martian Greenhouse Effect\n",
    "## A Final Project for Physics 361 by Morgan Baxter and Alex Brovender\n",
    "\n",
    "For a variety of reasons, including proximity to the sun and atmospheric and regolith composition, Mars is the number one candidate body in the solar system for future human colonization. Despite this status, there are many hurdles which humans will need to overcome in order to permanantly colonize Mars. One of the key problems is the extreme temperature variation. In order to increase the thermal inertia of the atmosphere and generally increase the average temperature, we propose a model where a large amount of CO2 is released suddenly into the atmosphere, with the intention of increasing the temperature at the poles. The Martian ice caps have a considerable amount of CO2 that, if liberated, is likely to further increase this greenhouse effect, and therefore continue to warm the planet. We use simple climate models to find the amount of energy that would be required to liberate enough CO2 to kickstart this greenhouse effect."
   ]
  },
  {
   "cell_type": "markdown",
   "metadata": {},
   "source": [
    "<div>\n",
    "<img src=\"https://upload.wikimedia.org/wikipedia/commons/6/6a/PIA22546-Mars-AnnualCO2ice-N%26SPoles-20180806.gif\" width=\"500\"/>\n",
    "</div>\n",
    "$\\textbf{Figure 1:}$ Extents of north (left) and south (right) polar CO2 ice during a martian year\n",
    "\n",
    "$\\textbf{Source:}$ NASA/JPL-caltech\n",
    "\n",
    "\n"
   ]
  },
  {
   "cell_type": "markdown",
   "metadata": {},
   "source": [
    "## Hogg 2008: Glacial cycles and carbon dioxide: A conceptual model\n",
    "\n",
    "We utilize Hogg, 2008, as a starting point for our model for the Mars climate system. The equations as he provides them are as follows:\n",
    "\n",
    "$$ c\\frac{dT}{dt} = \\bar{S} + \\sum_i{sin \\left (\\frac{2 \\pi t}{\\Gamma_i}\\right )} + \\bar{G} + A \\ln \\left(\\frac{C}{C_0}\\right) - \\sigma T^4$$\n",
    "\n",
    "$$ \\frac{dC}{dt} = V - (W_0 + W_1C) + \\beta (C_{max} - C)\\max\\left(\\frac{dT}{dt} - \\epsilon , 0 \\right) $$\n",
    "\n",
    "These equations in their current form are not useful to us for a variety of reasons. They include terms that account for volcanic activity, the carbon sink of the oceans, orbital pertubations, and the heat capacity of the oceans. As a result, the coupled differential equations that we will use look slightly different. However, they do take a variety of the the phenomena we want to observe into account, so they are a good starting point."
   ]
  },
  {
   "cell_type": "markdown",
   "metadata": {},
   "source": [
    "## Modified Equations\n",
    "\n",
    "Our reduced equations look as follows:\n",
    "\n",
    "$$ \\frac{dT}{dt} = \\Big[ \\bar{S} + \\bar{G} + A \\ln \\left(\\frac{C}{C_0}\\right) - \\sigma T^4 \\Big] /c$$\n",
    "\n",
    "$$\\frac{dC}{dt} = (T^* - 120)\\beta$$\n",
    "\n",
    "Our state variables are $T$, the average surface temperature in Kelvin, and $C$, the mass of CO2 in the Martian atmosphere, in kilograms. Therefore, our parameters must match these units, and we list them below:\n",
    "\n",
    "$\\beta$ is the rate of carbon effect on temperature. It has units of $kg \\cdot s^{-1} K^{-1}$.\n",
    "\n",
    "$T^*$ is the temperature $\\textbf{at the poles}$ in Kelvin. This will vary by a set offset $\\textbf{NOT YET DETERMINED}$ that will solve issues relating to the average temperature on Mars being more than warm enough to sublimate CO2 at the given pressure.\n",
    "\n",
    "$\\bar{S}$ is the rate of incoming solar radiation. This value is $589 W \\cdot m^{-2}$\n",
    "\n",
    "$\\bar{G}$ is the greenhouse warming term. This should initially be on the order of $1 W \\cdot m^{-2}$\n",
    "\n",
    "$A$ represents the effect of CO2 on the radiation budget. It should be set to $5.35 W \\cdot m^{-2}$. Might want to play around with this value. Hogg cites a paper that seems to detail where this value comes from.\n",
    "\n",
    "$\\frac{C}{C_0}$ represents the ratio between the mass of the CO2 currently in the atmosphere compared to the initial value. It is dimensionless.\n",
    "\n",
    "$\\sigma$ is the Stefan-Boltzmann constant, which is equal to $\\frac{2 \\pi^5 k^4}{15c^2 h^3} = 5.67 *10^{-8} W m^{-2} K^{-4}$.\n",
    "\n",
    "$c$ is the specific heat capacity of CO2. We will take this to be approximately $700 J \\cdot kg^{-1} \\cdot K^{-1}$. This is a function of temperature and pressure, and therefore it could be more accurate to have this in function form rather than as a constant.\n",
    "\n",
    "These two equations are enough for us to solve the system."
   ]
  },
  {
   "cell_type": "code",
   "execution_count": 4,
   "metadata": {},
   "outputs": [],
   "source": [
    "%matplotlib inline\n",
    "import matplotlib.pyplot as plt\n",
    "import numpy as np\n",
    "import scipy.integrate as integ\n",
    "\n",
    "# this function defines the system of equations that we wrote above.\n",
    "def RHS(w,t,p):\n",
    "        \n",
    "    # w holds C and T, the mass of atmospheric carbon and average surface temperature\n",
    "    C, T = w\n",
    "    \n",
    "    # the variable p holds the parameters\n",
    "    \n",
    "    SB_constant, solar_constant, G, A, C_0, beta = p\n",
    "    \n",
    "    dT = (solar_constant + G + A*np.ln(C/C_0) - (SB_constant*(T**4)))/700\n",
    "    \n",
    "    dC = (T - 120)*beta\n",
    "    \n",
    "    f = [dT, dC]\n",
    "    \n",
    "    return f"
   ]
  },
  {
   "cell_type": "code",
   "execution_count": null,
   "metadata": {},
   "outputs": [],
   "source": [
    "#solve = integ.solve_ivp(RHS,,[0.95])\n",
    "\n",
    "\n",
    "# here we define our constants and put them in a list to hand to the RHS function\n",
    "SB_constant = 5.67e-8\n",
    "solar_constant = 589\n",
    "G = 1\n",
    "a = 5.35\n",
    "C_0 = \n",
    "beta = 0.1\n",
    "parameters = [SB_constant, solar_constant, G, A, C_0, beta]"
   ]
  },
  {
   "cell_type": "markdown",
   "metadata": {},
   "source": [
    "Now we have our function for the system of differential equations, a list containing our parameters, and initial guesses for starting temperature and atmospheric carbon content. From here, we use the Euler method to solve this system."
   ]
  },
  {
   "cell_type": "code",
   "execution_count": null,
   "metadata": {},
   "outputs": [],
   "source": []
  }
 ],
 "metadata": {
  "kernelspec": {
   "display_name": "Python 3",
   "language": "python",
   "name": "python3"
  },
  "language_info": {
   "codemirror_mode": {
    "name": "ipython",
    "version": 3
   },
   "file_extension": ".py",
   "mimetype": "text/x-python",
   "name": "python",
   "nbconvert_exporter": "python",
   "pygments_lexer": "ipython3",
   "version": "3.8.0"
  }
 },
 "nbformat": 4,
 "nbformat_minor": 2
}
