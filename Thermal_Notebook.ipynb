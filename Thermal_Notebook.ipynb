{
 "cells": [
  {
   "cell_type": "markdown",
   "metadata": {},
   "source": [
    "# Kickstarting the Martian Greenhouse Effect\n",
    "### A Final Project for Physics 361 by Morgan Baxter and Alex Brovender\n",
    "\n",
    "\n",
    "\n",
    "For a variety of reasons, including proximity to the sun and atmospheric and regolith composition, Mars is the number one candidate body in the solar system for future human colonization. Unfortunately, it is currently highly inhospitable to human life, partially due to the extreme surface temperatures that can range from $-143^{\\circ} C$ and $35^{\\circ} C$. We use simple climate models to find the amount of energy that would be required to liberate enough CO2 to kickstart a greenhous effect and warm the planet."
   ]
  },
  {
   "cell_type": "markdown",
   "metadata": {},
   "source": [
    "<div>\n",
    "<img src=\"https://upload.wikimedia.org/wikipedia/commons/6/6a/PIA22546-Mars-AnnualCO2ice-N%26SPoles-20180806.gif\" width=\"500\"/>\n",
    "</div>\n",
    "$\\textbf{Figure 1:}$ Extents of north (left) and south (right) polar CO2 ice during a martian year\n",
    "\n",
    "$\\textbf{Source:}$ NASA/JPL-caltech\n",
    "\n"
   ]
  },
  {
   "cell_type": "markdown",
   "metadata": {},
   "source": [
    "\n",
    "Our first equation for the temperature at the surface of Mars can be written as:\n",
    "\n",
    "$$ c\\frac{dT}{dt} = \\bar{S} + \\sum_i{sin \\left (\\frac{2 \\pi t}{\\Gamma_i}\\right )} + \\bar{G} + A \\ln \\left(\\frac{C}{C_0}\\right) - \\sigma T^4$$\n",
    "\n",
    "$$ \\frac{dC}{dt} = V - (W_0 + W_1C) + \\beta (C_{max} - C)\\max\\left(\\frac{dT}{dt} - \\epsilon , 0 \\right) $$\n",
    "\n",
    "c = specific heat capacity of ocean\n",
    "\n",
    "$\\frac{dT}{dt}$ = Temp/time derivative on Mars's surface?\n",
    "\n",
    "$ C(t) $ = atmospheric concentration of $CO_2$\n",
    "\n",
    "$ C_0 = 280 $ ppm initial concentration\n",
    "\n",
    "$ A = 5.35 W/m^2 $ effect of $C0_2$ on radiation budget\n",
    "\n",
    "\n",
    "Here, $F_S$ is the solar constant, in units of $W m^{-2}$, and is a different value for each body in the solar system. The solar constant for Mars is approximately $589 W m^{-2}$. $A$ is the planetary bond albedo, which is dimensionless and equal to 0.25. $\\sigma$ is the Stefan-Boltzmann constant, which is equal to $\\frac{2 \\pi^5 k^4}{15c^2 h^3} = 5.67 *10^{-8} W m^{-2} K^{-4}$. Finally, $f$ is absorption efficiency of the atmosphere, and is also dimensionless and approximately "
   ]
  },
  {
   "cell_type": "code",
   "execution_count": null,
   "metadata": {},
   "outputs": [],
   "source": []
  }
 ],
 "metadata": {
  "kernelspec": {
   "display_name": "Python 3",
   "language": "python",
   "name": "python3"
  },
  "language_info": {
   "codemirror_mode": {
    "name": "ipython",
    "version": 3
   },
   "file_extension": ".py",
   "mimetype": "text/x-python",
   "name": "python",
   "nbconvert_exporter": "python",
   "pygments_lexer": "ipython3",
   "version": "3.8.0"
  }
 },
 "nbformat": 4,
 "nbformat_minor": 2
}
