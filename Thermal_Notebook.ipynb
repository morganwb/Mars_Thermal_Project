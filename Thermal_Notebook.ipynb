{
 "cells": [
  {
   "cell_type": "markdown",
   "metadata": {},
   "source": [
    "# Kickstarting the Martian Greenhouse Effect\n",
    "## A Final Project for Physics 361 by Morgan Baxter and Alex Brovender\n",
    "\n",
    "For a variety of reasons, including proximity to the sun and atmospheric and regolith composition, Mars is the number one candidate body in the solar system for future human colonization. Despite this status, there are many hurdles which humans will need to overcome in order to permanantly colonize Mars. One of the key problems is the extreme temperature variation. In order to increase the thermal inertia of the atmosphere and generally increase the average temperature, we propose a model where a large amount of CO2 is released suddenly into the atmosphere, with the intention of increasing the temperature at the poles. The Martian ice caps have a considerable amount of CO2 that, if liberated, is likely to further increase this greenhouse effect, and therefore continue to warm the planet. We use simple climate models to find the amount of energy that would be required to liberate enough CO2 to kickstart this greenhouse effect."
   ]
  },
  {
   "cell_type": "markdown",
   "metadata": {},
   "source": [
    "<div>\n",
    "<img src=\"https://upload.wikimedia.org/wikipedia/commons/6/6a/PIA22546-Mars-AnnualCO2ice-N%26SPoles-20180806.gif\" width=\"500\"/>\n",
    "</div>\n",
    "$\\textbf{Figure 1:}$ Extents of north (left) and south (right) polar CO2 ice during a martian year\n",
    "\n",
    "$\\textbf{Source:}$ NASA/JPL-caltech\n",
    "\n",
    "\n"
   ]
  },
  {
   "cell_type": "markdown",
   "metadata": {},
   "source": [
    "## Hogg 2008: Glacial cycles and carbon dioxide: A conceptual model\n",
    "\n",
    "We utilize Hogg, 2008, as a starting point for our model for the Mars climate system. The equations as he provides them are as follows:\n",
    "\n",
    "$$ c\\frac{dT}{dt} = \\bar{S} + \\sum_i{sin \\left (\\frac{2 \\pi t}{\\Gamma_i}\\right )} + \\bar{G} + A \\ln \\left(\\frac{C}{C_0}\\right) - \\sigma T^4$$\n",
    "\n",
    "$$ \\frac{dC}{dt} = V - (W_0 + W_1C) + \\beta (C_{max} - C)\\max\\left(\\frac{dT}{dt} - \\epsilon , 0 \\right) $$\n",
    "\n",
    "These equations in their current form are not useful to us for a variety of reasons. They include terms that account for volcanic activity, the carbon sink of the oceans, orbital pertubations, and the heat capacity of the oceans. As a result, the coupled differential equations that we will use look slightly different. However, they do take a variety of the the phenomena we want to observe into account, so they are a good starting point."
   ]
  },
  {
   "cell_type": "markdown",
   "metadata": {},
   "source": [
    "## Modified Equations\n",
    "\n",
    "Our reduced equations look as follows:\n",
    "\n",
    "$$ \\frac{dT}{dt} = \\Big[ \\bar{S} + \\bar{G} + A \\ln \\left(\\frac{C}{C_0}\\right) - \\sigma T^4 \\Big] /c$$\n",
    "\n",
    "$$\\frac{dC}{dt} = (T^* - 120)\\beta$$\n",
    "\n",
    "Our state variables are $T$, the average surface temperature in Kelvin, and $C$, the mass of CO2 in the Martian atmosphere, in kilograms. Therefore, our parameters must match these units, and we list them below:\n",
    "\n",
    "$\\beta$ is the rate of carbon effect on temperature. It has units of $kg \\cdot s^{-1} K^{-1}$.\n",
    "\n",
    "$T^*$ is the temperature $\\textbf{at the poles}$ in Kelvin. This will vary by a set offset $\\textbf{NOT YET DETERMINED}$ that will solve issues relating to the average temperature on Mars being more than warm enough to sublimate CO2 at the given pressure.\n",
    "\n",
    "$\\bar{S}$ is the rate of incoming solar radiation. This value is $589 W \\cdot m^{-2}$\n",
    "\n",
    "$\\bar{G}$ is the greenhouse warming term. This should initially be on the order of $1 W \\cdot m^{-2}$\n",
    "\n",
    "$A$ represents the effect of CO2 on the radiation budget. It should be set to $5.35 W \\cdot m^{-2}$. Might want to play around with this value. Hogg cites a paper that seems to detail where this value comes from.\n",
    "\n",
    "$\\frac{C}{C_0}$ represents the ratio between the mass of the CO2 currently in the atmosphere compared to the initial value. It is dimensionless.\n",
    "\n",
    "$\\sigma$ is the Stefan-Boltzmann constant, which is equal to $\\frac{2 \\pi^5 k^4}{15c^2 h^3} = 5.67 *10^{-8} W m^{-2} K^{-4}$.\n",
    "\n",
    "$c$ is the specific heat capacity of CO2. We will take this to be approximately $700 J \\cdot kg^{-1} \\cdot K^{-1}$. This is a function of temperature and pressure, and therefore it could be more accurate to have this in function form rather than as a constant.\n",
    "\n",
    "These two equations are enough for us to solve the system."
   ]
  },
  {
   "cell_type": "code",
   "execution_count": 1,
   "metadata": {},
   "outputs": [],
   "source": [
    "%matplotlib inline\n",
    "import matplotlib.pyplot as plt\n",
    "import numpy as np\n",
    "import scipy.integrate as integ\n",
    "\n",
    "# this function defines the system of equations that we wrote above.\n",
    "def RHS(w,t,p):\n",
    "        \n",
    "    # w holds C and T, the mass of atmospheric carbon and average surface temperature\n",
    "    C, T = w\n",
    "    \n",
    "    # the variable p holds the parameters\n",
    "    \n",
    "    SB_constant, solar_constant, G, A, C_0, beta = p\n",
    "    \n",
    "    dT = (solar_constant + G + A*np.ln(C/C_0) - (SB_constant*(T**4)))/700\n",
    "    \n",
    "    dC = (T - 120)*beta\n",
    "    \n",
    "    f = [dT, dC]\n",
    "    \n",
    "    return f\n"
   ]
  },
  {
   "cell_type": "code",
   "execution_count": 2,
   "metadata": {},
   "outputs": [],
   "source": [
    "#solve = integ.solve_ivp(RHS,,[0.95])\n",
    "\n",
    "\n",
    "# here we define our constants and put them in a list to hand to the RHS function\n",
    "SB_constant = 5.67e-8\n",
    "solar_constant = 589\n",
    "G = 1\n",
    "A = 5.35\n",
    "# just to make euler's method work, will change later, but not a bad value, guessed at initial T and C values, ADJUST LATER\n",
    "T_0 = 215      \n",
    "C_0 = 1e16\n",
    "beta = 0.1\n",
    "parameters = [SB_constant, solar_constant, G, A, C_0, beta]\n"
   ]
  },
  {
   "cell_type": "markdown",
   "metadata": {},
   "source": [
    "Now we have our function for the system of differential equations, a list containing our parameters, and initial guesses for starting temperature and atmospheric carbon content. From here, we use the Euler method to solve this system."
   ]
  },
  {
   "cell_type": "code",
   "execution_count": 3,
   "metadata": {},
   "outputs": [
    {
     "name": "stdout",
     "output_type": "stream",
     "text": [
      "1.0         1.000000000000001e+16            215.66978034223214    0.6676135280614458     9.566978034223215\n",
      "2.0         1.000000000000002e+16            216.3373938702936    0.6654335402473688     9.63373938702936\n",
      "3.0         1.000000000000003e+16            217.00282741054096    0.6632404942706434     9.700282741054096\n",
      "4.0         1.000000000000004e+16            217.6660679048116    0.6610345082353778     9.76660679048116\n",
      "5.0         1.000000000000005e+16            218.327102413047    0.6588157028464284     9.8327102413047\n"
     ]
    }
   ],
   "source": [
    "# Euler's method for T, stepsize t:\n",
    "\n",
    "t = 0.0\n",
    "dt = 1.0\n",
    "T = T_0\n",
    "C = C_0\n",
    "dT = (solar_constant + G + A*np.log(C/C_0) - (SB_constant*(T**4)))/700\n",
    "dC = (T - 120)*beta\n",
    "\n",
    "for i in range(5):\n",
    "    C= C + dC*dt\n",
    "    T= T + dT*dt\n",
    "    dT = (solar_constant + G + (A*np.log(C/C_0)) - (SB_constant*(T**4)))/700\n",
    "    dC = (T - 120)*beta\n",
    "    t = t + dt\n",
    "    print(t,\"       \",C,\"          \",T, \"  \", dT, \"   \", dC)"
   ]
  },
  {
   "cell_type": "code",
   "execution_count": 4,
   "metadata": {},
   "outputs": [
    {
     "name": "stdout",
     "output_type": "stream",
     "text": [
      "Populating the interactive namespace from numpy and matplotlib\n"
     ]
    },
    {
     "name": "stderr",
     "output_type": "stream",
     "text": [
      "/Library/Frameworks/Python.framework/Versions/3.8/lib/python3.8/site-packages/IPython/core/magics/pylab.py:159: UserWarning: pylab import has clobbered these variables: ['beta']\n",
      "`%matplotlib` prevents importing * from pylab and numpy\n",
      "  warn(\"pylab import has clobbered these variables: %s\"  % clobbered +\n"
     ]
    }
   ],
   "source": [
    "%pylab inline"
   ]
  },
  {
   "cell_type": "code",
   "execution_count": 5,
   "metadata": {},
   "outputs": [
    {
     "ename": "AttributeError",
     "evalue": "'dict' object has no attribute 'append'",
     "output_type": "error",
     "traceback": [
      "\u001b[0;31m---------------------------------------------------------------------------\u001b[0m",
      "\u001b[0;31mAttributeError\u001b[0m                            Traceback (most recent call last)",
      "\u001b[0;32m<ipython-input-5-c1560ccc209a>\u001b[0m in \u001b[0;36m<module>\u001b[0;34m\u001b[0m\n\u001b[1;32m      6\u001b[0m \u001b[0mT\u001b[0m\u001b[0;34m=\u001b[0m\u001b[0mT_0\u001b[0m\u001b[0;34m\u001b[0m\u001b[0;34m\u001b[0m\u001b[0m\n\u001b[1;32m      7\u001b[0m \u001b[0mC\u001b[0m\u001b[0;34m=\u001b[0m\u001b[0mC_0\u001b[0m\u001b[0;34m\u001b[0m\u001b[0;34m\u001b[0m\u001b[0m\n\u001b[0;32m----> 8\u001b[0;31m \u001b[0mtlist\u001b[0m\u001b[0;34m.\u001b[0m\u001b[0mappend\u001b[0m\u001b[0;34m(\u001b[0m\u001b[0mt\u001b[0m\u001b[0;34m)\u001b[0m\u001b[0;34m\u001b[0m\u001b[0;34m\u001b[0m\u001b[0m\n\u001b[0m\u001b[1;32m      9\u001b[0m \u001b[0mTlist\u001b[0m\u001b[0;34m.\u001b[0m\u001b[0mappend\u001b[0m\u001b[0;34m(\u001b[0m\u001b[0mT\u001b[0m\u001b[0;34m)\u001b[0m\u001b[0;34m\u001b[0m\u001b[0;34m\u001b[0m\u001b[0m\n\u001b[1;32m     10\u001b[0m \u001b[0;34m\u001b[0m\u001b[0m\n",
      "\u001b[0;31mAttributeError\u001b[0m: 'dict' object has no attribute 'append'"
     ]
    }
   ],
   "source": [
    "tlist = {}\n",
    "#Clist = {}\n",
    "Tlist = {}\n",
    "\n",
    "t=0.0\n",
    "T=T_0\n",
    "C=C_0\n",
    "tlist.append(t)\n",
    "Tlist.append(T)\n",
    "\n",
    "for i in range(5):\n",
    "    C= C + dC*dt\n",
    "    T= T + dT*dt\n",
    "    dT = (solar_constant + G + (A*np.log(C/C_0)) - (SB_constant*(T**4)))/700\n",
    "    dC = (T - 120)*beta\n",
    "    t = t + dt\n"
   ]
  },
  {
   "cell_type": "code",
   "execution_count": null,
   "metadata": {},
   "outputs": [],
   "source": []
  },
  {
   "cell_type": "code",
   "execution_count": null,
   "metadata": {},
   "outputs": [],
   "source": []
  },
  {
   "cell_type": "code",
   "execution_count": null,
   "metadata": {},
   "outputs": [],
   "source": []
  }
 ],
 "metadata": {
  "kernelspec": {
   "display_name": "Python 3",
   "language": "python",
   "name": "python3"
  },
  "language_info": {
   "codemirror_mode": {
    "name": "ipython",
    "version": 3
   },
   "file_extension": ".py",
   "mimetype": "text/x-python",
   "name": "python",
   "nbconvert_exporter": "python",
   "pygments_lexer": "ipython3",
   "version": "3.8.0"
  }
 },
 "nbformat": 4,
 "nbformat_minor": 2
}
