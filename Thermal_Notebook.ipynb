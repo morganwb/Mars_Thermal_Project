{
 "cells": [
  {
   "cell_type": "markdown",
   "metadata": {},
   "source": [
    "# Kickstarting the Martian Greenhouse Effect\n",
    "### A Final Project for Physics 361 by Morgan Baxter and Alex Brovender\n",
    "\n",
    "\n",
    "\n",
    "For a variety of reasons, including proximity to the sun and atmospheric and regolith composition, Mars is the number one candidate body in the solar system for future human colonization. "
   ]
  },
  {
   "cell_type": "markdown",
   "metadata": {},
   "source": [
    "<div>\n",
    "<img src=\"https://upload.wikimedia.org/wikipedia/commons/6/6a/PIA22546-Mars-AnnualCO2ice-N%26SPoles-20180806.gif\" width=\"500\"/>\n",
    "</div>\n",
    "$\\textbf{Figure 1:}$ Extents of north (left) and south (right) polar CO2 ice during a martian year\n",
    "\n",
    "$\\textbf{Source:}$ NASA/JPL-caltech"
   ]
  },
  {
   "cell_type": "markdown",
   "metadata": {},
   "source": [
    "Our first equation for the temperature at the surface of Mars can be written as:\n",
    "\n",
    "$$T_0 = \\Big[ \\frac{F_S(1-A)}{4 \\sigma (1-f/2)} \\Big]^{1/4}$$\n",
    "\n",
    "Here, $F_S$ is the solar constant, in units of $W m^{-2}$. The solar constant can be found by dividing the total radiation from the sun, $E_S$, and dividing it by the \n",
    "\n",
    "$A$ is the planetary albedo (dimensionless)"
   ]
  },
  {
   "cell_type": "code",
   "execution_count": null,
   "metadata": {},
   "outputs": [],
   "source": []
  }
 ],
 "metadata": {
  "kernelspec": {
   "display_name": "Python 3",
   "language": "python",
   "name": "python3"
  },
  "language_info": {
   "codemirror_mode": {
    "name": "ipython",
    "version": 3
   },
   "file_extension": ".py",
   "mimetype": "text/x-python",
   "name": "python",
   "nbconvert_exporter": "python",
   "pygments_lexer": "ipython3",
   "version": "3.8.0"
  }
 },
 "nbformat": 4,
 "nbformat_minor": 2
}
